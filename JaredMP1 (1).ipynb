{
 "cells": [
  {
   "cell_type": "code",
   "execution_count": 4,
   "metadata": {
    "collapsed": false
   },
   "outputs": [],
   "source": [
    "import random\n"
   ]
  },
  {
   "cell_type": "code",
   "execution_count": 5,
   "metadata": {
    "collapsed": false
   },
   "outputs": [
    {
     "data": {
      "text/plain": [
       "<function Random.random>"
      ]
     },
     "execution_count": 5,
     "metadata": {},
     "output_type": "execute_result"
    }
   ],
   "source": [
    "random.random"
   ]
  },
  {
   "cell_type": "code",
   "execution_count": 6,
   "metadata": {
    "collapsed": false
   },
   "outputs": [
    {
     "data": {
      "text/plain": [
       "0.8343174756256401"
      ]
     },
     "execution_count": 6,
     "metadata": {},
     "output_type": "execute_result"
    }
   ],
   "source": [
    "random.random()"
   ]
  },
  {
   "cell_type": "code",
   "execution_count": 9,
   "metadata": {
    "collapsed": false
   },
   "outputs": [
    {
     "name": "stdout",
     "output_type": "stream",
     "text": [
      "You selected blue\n"
     ]
    }
   ],
   "source": [
    "if (random.random() < 2/3):\n",
    "    print(\"You selected red\")\n",
    "else:\n",
    "    print(\"You selected blue\")\n",
    "    "
   ]
  },
  {
   "cell_type": "code",
   "execution_count": 23,
   "metadata": {
    "collapsed": false
   },
   "outputs": [
    {
     "name": "stdout",
     "output_type": "stream",
     "text": [
      "red:  0 \n",
      "blue:  1\n"
     ]
    }
   ],
   "source": [
    "red = 0\n",
    "blue = 0\n",
    "if (random.random() < 2/3):\n",
    "    red+=1\n",
    "else:\n",
    "    blue+=1\n",
    "    \n",
    "print(\"red: \", red ,\"\\nblue: \", blue)"
   ]
  },
  {
   "cell_type": "code",
   "execution_count": 28,
   "metadata": {
    "collapsed": false
   },
   "outputs": [
    {
     "ename": "SyntaxError",
     "evalue": "invalid syntax (<ipython-input-28-1d038a657456>, line 12)",
     "output_type": "error",
     "traceback": [
      "\u001b[1;36m  File \u001b[1;32m\"<ipython-input-28-1d038a657456>\"\u001b[1;36m, line \u001b[1;32m12\u001b[0m\n\u001b[1;33m    if (random.random() < 7/11):\u001b[0m\n\u001b[1;37m     ^\u001b[0m\n\u001b[1;31mSyntaxError\u001b[0m\u001b[1;31m:\u001b[0m invalid syntax\n"
     ]
    }
   ],
   "source": [
    "red = 0\n",
    "blue = 0\n",
    "if (random.random() < 2/3):\n",
    "    red+=1\n",
    "else:\n",
    "    blue+=1\n",
    "    \n",
    "\n",
    "\n",
    "if (red == 1):\n",
    "    {\n",
    "    if (random.random() < 7/11):\n",
    "    red+1\n",
    "        else:\n",
    "        blue+1\n",
    "    }\n",
    "else if (blue == 1):\n",
    "    {\n",
    "    if(random.random() < 8/11)\n",
    "        red+1\n",
    "        else:\n",
    "        blue+1\n",
    "    }\n",
    "print(\"red: \", red ,\"\\nblue: \", blue)"
   ]
  },
  {
   "cell_type": "code",
   "execution_count": null,
   "metadata": {
    "collapsed": true
   },
   "outputs": [],
   "source": []
  }
 ],
 "metadata": {
  "kernelspec": {
   "display_name": "Python 3",
   "language": "python",
   "name": "python3"
  },
  "language_info": {
   "codemirror_mode": {
    "name": "ipython",
    "version": 3
   },
   "file_extension": ".py",
   "mimetype": "text/x-python",
   "name": "python",
   "nbconvert_exporter": "python",
   "pygments_lexer": "ipython3",
   "version": "3.5.1"
  }
 },
 "nbformat": 4,
 "nbformat_minor": 0
}
