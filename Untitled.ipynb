{
 "cells": [
  {
   "cell_type": "code",
   "execution_count": 1,
   "metadata": {
    "collapsed": true
   },
   "outputs": [],
   "source": [
    "import random\n"
   ]
  },
  {
   "cell_type": "code",
   "execution_count": 2,
   "metadata": {
    "collapsed": false
   },
   "outputs": [
    {
     "data": {
      "text/plain": [
       "0.4001354196409256"
      ]
     },
     "execution_count": 2,
     "metadata": {},
     "output_type": "execute_result"
    }
   ],
   "source": [
    "random.random()"
   ]
  },
  {
   "cell_type": "code",
   "execution_count": 8,
   "metadata": {
    "collapsed": false
   },
   "outputs": [
    {
     "name": "stdout",
     "output_type": "stream",
     "text": [
      "0.0004\n"
     ]
    }
   ],
   "source": [
    "CHOICE_A = random.random()\n",
    "CHOICE_B = random.random()\n",
    "iterations = 10000\n",
    "Num_marbles = 12\n",
    "Num_Blue = 4\n",
    "blue = 0\n",
    "\n",
    "\n",
    "for i in range(iterations):\n",
    "    if (CHOICE_A < Num_Blue/Num_marbles):\n",
    "        blue += 1\n",
    "    \n",
    "        if (CHOICE_B < (Num_marbles - 1)/(Num_marbles - 1)):\n",
    "            blue += 1\n",
    "        \n",
    "print(Num_Blue/iterations)"
   ]
  },
  {
   "cell_type": "code",
   "execution_count": 9,
   "metadata": {
    "collapsed": false
   },
   "outputs": [
    {
     "name": "stdout",
     "output_type": "stream",
     "text": [
      "0.0004\n"
     ]
    }
   ],
   "source": [
    "CHOICE_A = random.random()\n",
    "CHOICE_B = random.random()\n",
    "iterations = 10000\n",
    "Num_marbles = 12\n",
    "Num_Blue = 4\n",
    "blue = 0\n",
    "\n",
    "\n",
    "for i in range(iterations):\n",
    "    if (CHOICE_A < Num_Blue/Num_marbles):\n",
    "        \n",
    "        if (CHOICE_B < (Num_marbles - 1)/(Num_marbles - 1)):\n",
    "            blue += 1\n",
    "        \n",
    "print(Num_Blue/iterations)"
   ]
  },
  {
   "cell_type": "code",
   "execution_count": 10,
   "metadata": {
    "collapsed": false
   },
   "outputs": [
    {
     "name": "stdout",
     "output_type": "stream",
     "text": [
      "1.0\n"
     ]
    }
   ],
   "source": [
    "CHOICE_A = random.random()\n",
    "CHOICE_B = random.random()\n",
    "iterations = 10000\n",
    "Num_marbles = 12\n",
    "Num_Blue = 4\n",
    "blue = 0\n",
    "\n",
    "\n",
    "for i in range(iterations):\n",
    "    if (CHOICE_A < Num_Blue/Num_marbles):\n",
    "        if (CHOICE_B < (Num_marbles - 1)/(Num_marbles - 1)):\n",
    "            blue += 1\n",
    "        \n",
    "print(blue/iterations)"
   ]
  },
  {
   "cell_type": "code",
   "execution_count": null,
   "metadata": {
    "collapsed": true
   },
   "outputs": [],
   "source": []
  },
  {
   "cell_type": "code",
   "execution_count": null,
   "metadata": {
    "collapsed": true
   },
   "outputs": [],
   "source": []
  },
  {
   "cell_type": "code",
   "execution_count": 12,
   "metadata": {
    "collapsed": false
   },
   "outputs": [
    {
     "name": "stdout",
     "output_type": "stream",
     "text": [
      "0\n",
      "0.0\n",
      "0\n",
      "0.0\n"
     ]
    }
   ],
   "source": [
    "CHOICE_A = random.random()\n",
    "CHOICE_B = random.random()\n",
    "iterations = 10000\n",
    "Num_marbles = 12\n",
    "Num_Blue = 4\n",
    "blue = 0\n",
    "double_blue = 0\n",
    "\n",
    "\n",
    "for i in range(iterations):\n",
    "    if (CHOICE_A < Num_Blue/Num_marbles):\n",
    "           blue+=1\n",
    "    \n",
    "    if (CHOICE_B < (Num_Blue - 1)/(Num_marbles - 1)):\n",
    "            blue += 1\n",
    "            double_blue += 1\n",
    "print(blue)            \n",
    "print(blue/iterations)\n",
    "print(double_blue)\n",
    "print(double_blue/iterations)"
   ]
  },
  {
   "cell_type": "code",
   "execution_count": 27,
   "metadata": {
    "collapsed": false
   },
   "outputs": [
    {
     "name": "stdout",
     "output_type": "stream",
     "text": [
      "10000\n",
      "1.0\n",
      "0\n",
      "0.0\n"
     ]
    }
   ],
   "source": [
    "CHOICE_A = random.random()\n",
    "CHOICE_B = random.random()\n",
    "iterations = 10000\n",
    "Num_marbles = 12\n",
    "Num_Blue = 4\n",
    "blue = 0\n",
    "double_blue = 0\n",
    "\n",
    "\n",
    "for i in range(iterations):\n",
    "    if (CHOICE_A < Num_Blue/Num_marbles):\n",
    "        blue+=1\n",
    "        if (CHOICE_B < (Num_Blue - 1)/(Num_marbles - 1)):\n",
    "            blue += 1\n",
    "            double_blue += 1\n",
    "            \n",
    "print(blue)            \n",
    "print(blue/iterations)\n",
    "print(double_blue)\n",
    "print(double_blue/10000) \n",
    "    "
   ]
  },
  {
   "cell_type": "code",
   "execution_count": null,
   "metadata": {
    "collapsed": true
   },
   "outputs": [],
   "source": []
  },
  {
   "cell_type": "code",
   "execution_count": null,
   "metadata": {
    "collapsed": true
   },
   "outputs": [],
   "source": []
  }
 ],
 "metadata": {
  "kernelspec": {
   "display_name": "Python 3",
   "language": "python",
   "name": "python3"
  },
  "language_info": {
   "codemirror_mode": {
    "name": "ipython",
    "version": 3
   },
   "file_extension": ".py",
   "mimetype": "text/x-python",
   "name": "python",
   "nbconvert_exporter": "python",
   "pygments_lexer": "ipython3",
   "version": "3.5.1"
  }
 },
 "nbformat": 4,
 "nbformat_minor": 0
}
