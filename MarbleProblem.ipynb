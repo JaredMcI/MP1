{
 "cells": [
  {
   "cell_type": "code",
   "execution_count": 27,
   "metadata": {
    "collapsed": true
   },
   "outputs": [],
   "source": [
    "import random\n"
   ]
  },
  {
   "cell_type": "code",
   "execution_count": 28,
   "metadata": {
    "collapsed": false
   },
   "outputs": [
    {
     "data": {
      "text/plain": [
       "0.3268690275862248"
      ]
     },
     "execution_count": 28,
     "metadata": {},
     "output_type": "execute_result"
    }
   ],
   "source": [
    "random.random()"
   ]
  },
  {
   "cell_type": "code",
   "execution_count": 29,
   "metadata": {
    "collapsed": false
   },
   "outputs": [
    {
     "name": "stdout",
     "output_type": "stream",
     "text": [
      "0.0004\n"
     ]
    }
   ],
   "source": [
    "CHOICE_A = random.random()\n",
    "CHOICE_B = random.random()\n",
    "iterations = 10000\n",
    "Num_marbles = 12\n",
    "Num_Blue = 4\n",
    "blue = 0\n",
    "\n",
    "\n",
    "for i in range(iterations):\n",
    "    if (CHOICE_A < Num_Blue/Num_marbles):\n",
    "        blue += 1\n",
    "    \n",
    "        if (CHOICE_B < (Num_marbles - 1)/(Num_marbles - 1)):\n",
    "            blue += 1\n",
    "        \n",
    "print(Num_Blue/iterations)"
   ]
  },
  {
   "cell_type": "code",
   "execution_count": 30,
   "metadata": {
    "collapsed": false
   },
   "outputs": [
    {
     "name": "stdout",
     "output_type": "stream",
     "text": [
      "0.0004\n"
     ]
    }
   ],
   "source": [
    "CHOICE_A = random.random()\n",
    "CHOICE_B = random.random()\n",
    "iterations = 10000\n",
    "Num_marbles = 12\n",
    "Num_Blue = 4\n",
    "blue = 0\n",
    "\n",
    "\n",
    "for i in range(iterations):\n",
    "    if (CHOICE_A < Num_Blue/Num_marbles):\n",
    "        \n",
    "        if (CHOICE_B < (Num_marbles - 1)/(Num_marbles - 1)):\n",
    "            blue += 1\n",
    "        \n",
    "print(Num_Blue/iterations)"
   ]
  },
  {
   "cell_type": "code",
   "execution_count": 31,
   "metadata": {
    "collapsed": false
   },
   "outputs": [
    {
     "name": "stdout",
     "output_type": "stream",
     "text": [
      "0.0\n"
     ]
    }
   ],
   "source": [
    "CHOICE_A = random.random()\n",
    "CHOICE_B = random.random()\n",
    "iterations = 10000\n",
    "Num_marbles = 12\n",
    "Num_Blue = 4\n",
    "blue = 0\n",
    "\n",
    "\n",
    "for i in range(iterations):\n",
    "    if (CHOICE_A < Num_Blue/Num_marbles):\n",
    "        if (CHOICE_B < (Num_marbles - 1)/(Num_marbles - 1)):\n",
    "            blue += 1\n",
    "        \n",
    "print(blue/iterations)"
   ]
  },
  {
   "cell_type": "code",
   "execution_count": null,
   "metadata": {
    "collapsed": true
   },
   "outputs": [],
   "source": []
  },
  {
   "cell_type": "code",
   "execution_count": null,
   "metadata": {
    "collapsed": true
   },
   "outputs": [],
   "source": []
  },
  {
   "cell_type": "code",
   "execution_count": 32,
   "metadata": {
    "collapsed": false
   },
   "outputs": [
    {
     "name": "stdout",
     "output_type": "stream",
     "text": [
      "0\n",
      "0.0\n",
      "0\n",
      "0.0\n"
     ]
    }
   ],
   "source": [
    "CHOICE_A = random.random()\n",
    "CHOICE_B = random.random()\n",
    "iterations = 10000\n",
    "Num_marbles = 12\n",
    "Num_Blue = 4\n",
    "blue = 0\n",
    "double_blue = 0\n",
    "\n",
    "\n",
    "for i in range(iterations):\n",
    "    if (CHOICE_A < Num_Blue/Num_marbles):\n",
    "           blue+=1\n",
    "    \n",
    "    if (CHOICE_B < (Num_Blue - 1)/(Num_marbles - 1)):\n",
    "            blue += 1\n",
    "            double_blue += 1\n",
    "print(blue)            \n",
    "print(blue/iterations)\n",
    "print(double_blue)\n",
    "print(double_blue/iterations)"
   ]
  },
  {
   "cell_type": "code",
   "execution_count": 33,
   "metadata": {
    "collapsed": false
   },
   "outputs": [
    {
     "name": "stdout",
     "output_type": "stream",
     "text": [
      "0.0\n"
     ]
    }
   ],
   "source": [
    "CHOICE_A = random.random()\n",
    "CHOICE_B = random.random()\n",
    "iterations = 10000\n",
    "Num_marbles = 12\n",
    "Num_Blue = 4\n",
    "blue = 0\n",
    "double_blue = 0\n",
    "\n",
    "\n",
    "for i in range(iterations):\n",
    "    if (CHOICE_A < Num_Blue/Num_marbles):\n",
    "        if (CHOICE_B < (Num_Blue - 1)/(Num_marbles - 1)):\n",
    "            double_blue += 1\n",
    "            \n",
    "print(double_blue/iterations) \n",
    "    "
   ]
  },
  {
   "cell_type": "code",
   "execution_count": 36,
   "metadata": {
    "collapsed": false
   },
   "outputs": [
    {
     "name": "stdout",
     "output_type": "stream",
     "text": [
      "6032\n",
      "0.6032\n",
      "2728\n",
      "0.2728\n"
     ]
    }
   ],
   "source": [
    "\n",
    "iterations = 10000\n",
    "Num_marbles = 12\n",
    "Num_Blue = 4\n",
    "blue = 0\n",
    "double_blue = 0\n",
    "\n",
    "\n",
    "for i in range(iterations):\n",
    "    if (random.random() < Num_Blue/Num_marbles):\n",
    "           blue+=1\n",
    "    if (random.random() < (Num_Blue - 1)/(Num_marbles - 1)):\n",
    "            blue += 1\n",
    "            double_blue += 1\n",
    "    \n",
    "    \n",
    "print(blue)            \n",
    "print(blue/iterations)\n",
    "print(double_blue)\n",
    "print(double_blue/iterations)"
   ]
  },
  {
   "cell_type": "code",
   "execution_count": 42,
   "metadata": {
    "collapsed": false
   },
   "outputs": [
    {
     "name": "stdout",
     "output_type": "stream",
     "text": [
      "chance 0.3402\n",
      "chance 0.6704\n",
      "chance 0.2695\n",
      "chance 0.6372\n"
     ]
    }
   ],
   "source": [
    "\n",
    "iterations = 10000\n",
    "Num_marbles = 12\n",
    "Num_Blue = 4\n",
    "blue = 0\n",
    "double_blue = 0\n",
    "red = 0\n",
    "double_red = 0\n",
    "red_blue = 0\n",
    "blue_red = 0\n",
    "\n",
    "\n",
    "for i in range(iterations):\n",
    "    if (random.random() < Num_Blue/Num_marbles):\n",
    "           blue+=1\n",
    "    if (random.random() < (Num_Blue - 1)/(Num_marbles - 1)):\n",
    "        double_blue += 1\n",
    "    if(random.random() > Num_Blue/Num_marbles):\n",
    "        red+=1\n",
    "    if (random.random() > Num_Blue/(Num_marbles - 1)):\n",
    "        double_red+=1\n",
    "        \n",
    "        \n",
    "                \n",
    "print(\"chance\" , blue/iterations)\n",
    "print(\"chance\" ,red/iterations)\n",
    "print(\"chance\" ,double_blue/iterations)\n",
    "print(\"chance\" ,double_red/iterations)\n"
   ]
  },
  {
   "cell_type": "code",
   "execution_count": 43,
   "metadata": {
    "collapsed": false
   },
   "outputs": [
    {
     "name": "stdout",
     "output_type": "stream",
     "text": [
      "chance blue:  0.3425\n",
      "chance red:  0.6658\n",
      "chance double blue:  0.2699\n",
      "chance double red:  0.6381\n"
     ]
    }
   ],
   "source": [
    "\n",
    "iterations = 10000\n",
    "Num_marbles = 12\n",
    "Num_Blue = 4\n",
    "blue = 0\n",
    "double_blue = 0\n",
    "red = 0\n",
    "double_red = 0\n",
    "red_blue = 0\n",
    "blue_red = 0\n",
    "\n",
    "\n",
    "for i in range(iterations):\n",
    "    if (random.random() < Num_Blue/Num_marbles):\n",
    "           blue+=1\n",
    "    if (random.random() < (Num_Blue - 1)/(Num_marbles - 1)):\n",
    "        double_blue += 1\n",
    "    if(random.random() > Num_Blue/Num_marbles):\n",
    "        red+=1\n",
    "    if (random.random() > Num_Blue/(Num_marbles - 1)):\n",
    "        double_red+=1\n",
    "        \n",
    "        \n",
    "                \n",
    "print(\"chance blue: \" , blue/iterations)\n",
    "print(\"chance red: \" ,red/iterations)\n",
    "print(\"chance double blue: \" ,double_blue/iterations)\n",
    "print(\"chance double red: \" ,double_red/iterations)\n"
   ]
  },
  {
   "cell_type": "code",
   "execution_count": 53,
   "metadata": {
    "collapsed": false
   },
   "outputs": [
    {
     "name": "stdout",
     "output_type": "stream",
     "text": [
      "chance blue:  0.3352\n",
      "chance red:  0.6619\n",
      "chance double blue:  0.0922\n",
      "chance double red:  0.4285\n",
      "chance of a blue then red:  0.3338\n",
      "chance of a red then blue:  0.0\n"
     ]
    }
   ],
   "source": [
    "\n",
    "iterations = 10000\n",
    "Num_marbles = 12\n",
    "Num_Blue = 4\n",
    "blue = 0\n",
    "double_blue = 0\n",
    "red = 0\n",
    "double_red = 0\n",
    "red_blue = 0\n",
    "blue_red = 0\n",
    "\n",
    "\n",
    "for i in range(iterations):\n",
    "    if (random.random() < Num_Blue/Num_marbles):\n",
    "        blue+=1\n",
    "        \n",
    "    if(random.random() > Num_Blue/Num_marbles):\n",
    "        red+=1\n",
    "     \n",
    "    if (random.random() < Num_Blue/Num_marbles):\n",
    "        if (random.random() < (Num_Blue - 1)/(Num_marbles - 1)):\n",
    "            double_blue += 1\n",
    "    \n",
    "   \n",
    "    if(random.random() > Num_Blue/Num_marbles):\n",
    "        if (random.random() > Num_Blue/(Num_marbles - 1)):\n",
    "            double_red+=1\n",
    "    \n",
    "    if(random.random() < Num_Blue/Num_marbles):\n",
    "        if(random.random() > (Num_Blue - 1)/Num_marbles-1):\n",
    "            blue_red+=1\n",
    "    \n",
    "    if(random.random() > Num_Blue/Num_marbles):\n",
    "        if(random.random() < (Num_Blue/Num_marbles -1)):\n",
    "            red_blue+=1\n",
    "        \n",
    "                \n",
    "print(\"chance blue: \" , blue/iterations)\n",
    "print(\"chance red: \" ,red/iterations)\n",
    "print(\"chance double blue: \" ,double_blue/iterations)\n",
    "print(\"chance double red: \" ,double_red/iterations)\n",
    "print(\"chance of a blue then red: \", blue_red/iterations)\n",
    "print(\"chance of a red then blue: \", red_blue/iterations)\n"
   ]
  },
  {
   "cell_type": "code",
   "execution_count": 54,
   "metadata": {
    "collapsed": false
   },
   "outputs": [
    {
     "name": "stdout",
     "output_type": "stream",
     "text": [
      " Volume in drive C has no label.\n",
      " Volume Serial Number is 72AC-6DCC\n",
      "\n",
      " Directory of C:\\Users\\t00193170\n",
      "\n",
      "08/02/2017  15:50    <DIR>          .\n",
      "08/02/2017  15:50    <DIR>          ..\n",
      "30/09/2016  15:03    <DIR>          .android\n",
      "30/09/2016  15:03    <DIR>          .aws\n",
      "01/02/2017  15:58               669 .bash_history\n",
      "30/09/2016  15:03    <DIR>          .eclipse\n",
      "08/02/2017  14:06    <DIR>          .ipynb_checkpoints\n",
      "01/02/2017  14:14    <DIR>          .ipython\n",
      "30/09/2016  15:03    <DIR>          .jssc\n",
      "08/02/2017  13:55    <DIR>          .jupyter\n",
      "30/09/2016  15:03    <DIR>          .oracle_jre_usage\n",
      "30/05/2014  16:05               244 .packettracer\n",
      "10/09/2014  16:04    <DIR>          .spss\n",
      "30/09/2016  15:03    <DIR>          .VirtualBox\n",
      "08/02/2017  13:53                 0 .XDNGSERVICE.SingleInstanceLock\n",
      "30/09/2016  15:04    <DIR>          AppData\n",
      "30/09/2016  15:04    <DIR>          Autodesk\n",
      "16/11/2015  13:30         3,342,336 AzureStorageEmulatorDb42.mdf\n",
      "16/11/2015  13:30           851,968 AzureStorageEmulatorDb42_log.ldf\n",
      "26/09/2016  18:03         8,388,608 AzureStorageEmulatorDb45.mdf\n",
      "26/09/2016  18:03         8,388,608 AzureStorageEmulatorDb45_log.ldf\n",
      "30/09/2016  15:04    <DIR>          Cisco Packet Tracer 5.3.3\n",
      "30/09/2016  15:04    <DIR>          Contacts\n",
      "01/02/2017  14:29    <DIR>          Desktop\n",
      "12/05/2014  09:25         3,211,264 DevelopmentStorageDb22.mdf\n",
      "12/05/2014  09:25           802,816 DevelopmentStorageDb22_log.ldf\n",
      "08/02/2017  14:05    <DIR>          Documents\n",
      "01/02/2017  15:56    <DIR>          Downloads\n",
      "30/09/2016  15:04    <DIR>          eclipse\n",
      "01/02/2017  13:57    <DIR>          Favorites\n",
      "30/09/2016  15:04    <DIR>          IdeaProjects\n",
      "01/02/2017  15:56             3,449 JaredMP1.ipynb\n",
      "19/01/2015  12:26             8,571 JsDocComments.js\n",
      "30/09/2016  15:04    <DIR>          Links\n",
      "08/02/2017  15:50            10,501 MarbleProblem .ipynb\n",
      "19/01/2015  12:26            17,812 Modern.Intellisense.js\n",
      "30/09/2016  15:04    <DIR>          Music\n",
      "30/09/2016  15:04    <DIR>          Oracle\n",
      "30/09/2016  15:04    <DIR>          Pictures\n",
      "30/09/2016  15:04    <DIR>          Podcasts\n",
      "01/02/2017  15:18             9,383 Python_First_Look (1).ipynb\n",
      "30/09/2016  15:04    <DIR>          Saved Games\n",
      "30/09/2016  15:04    <DIR>          Searches\n",
      "30/09/2016  15:04    <DIR>          Videos\n",
      "12/05/2014  09:25         3,211,264 WAStorageEmulatorDb31.mdf\n",
      "12/05/2014  09:25           802,816 WAStorageEmulatorDb31_log.ldf\n",
      "10/09/2014  14:55         3,211,264 WAStorageEmulatorDb33.mdf\n",
      "10/09/2014  14:55           802,816 WAStorageEmulatorDb33_log.ldf\n",
      "30/09/2016  15:04    <DIR>          workspace\n",
      "              18 File(s)     33,064,389 bytes\n",
      "              31 Dir(s)  479,391,219,712 bytes free\n"
     ]
    }
   ],
   "source": [
    "!dir"
   ]
  },
  {
   "cell_type": "code",
   "execution_count": null,
   "metadata": {
    "collapsed": true
   },
   "outputs": [],
   "source": []
  }
 ],
 "metadata": {
  "kernelspec": {
   "display_name": "Python 3",
   "language": "python",
   "name": "python3"
  },
  "language_info": {
   "codemirror_mode": {
    "name": "ipython",
    "version": 3
   },
   "file_extension": ".py",
   "mimetype": "text/x-python",
   "name": "python",
   "nbconvert_exporter": "python",
   "pygments_lexer": "ipython3",
   "version": "3.5.1"
  }
 },
 "nbformat": 4,
 "nbformat_minor": 0
}
