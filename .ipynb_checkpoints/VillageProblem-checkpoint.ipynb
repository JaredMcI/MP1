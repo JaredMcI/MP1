{
 "cells": [
  {
   "cell_type": "code",
   "execution_count": 42,
   "metadata": {
    "collapsed": false
   },
   "outputs": [
    {
     "name": "stdout",
     "output_type": "stream",
     "text": [
      "0 people 100 children 100 men 0 women 0\n",
      "5 meat 100 man 5 woman 25\n"
     ]
    }
   ],
   "source": [
    "i = 1\n",
    "man = 0\n",
    "woman = 0\n",
    "mn = 0\n",
    "wn = 0\n",
    "\n",
    "\n",
    "for i in range(10):\n",
    "    x = (100-(5*i + i))\n",
    "    y = (i + 5*(i) + x)\n",
    "    i+1\n",
    "    if(y == 100):\n",
    "        mn = i\n",
    "        wn = 5*i\n",
    "        break\n",
    "        \n",
    "print(i,\"people\",y,\"children\" ,x, \"men\", mn, \"women\",wn)\n",
    "    \n",
    "j = 0\n",
    "for j in range(10):\n",
    "    m = (200 - 20*j)\n",
    "    l = (10*(j) + 3*(j) + 0.5*(m))\n",
    "    j+1\n",
    "    if(m == 100):\n",
    "        man = j\n",
    "        woman = 5*j\n",
    "        break\n",
    "        \n",
    "        \n",
    "print(j,\"meat\",m,\"man\",man,\"woman\",woman)\n",
    "    \n",
    "\n",
    "    "
   ]
  },
  {
   "cell_type": "code",
   "execution_count": null,
   "metadata": {
    "collapsed": true
   },
   "outputs": [],
   "source": []
  }
 ],
 "metadata": {
  "kernelspec": {
   "display_name": "Python 3",
   "language": "python",
   "name": "python3"
  },
  "language_info": {
   "codemirror_mode": {
    "name": "ipython",
    "version": 3
   },
   "file_extension": ".py",
   "mimetype": "text/x-python",
   "name": "python",
   "nbconvert_exporter": "python",
   "pygments_lexer": "ipython3",
   "version": "3.5.1"
  }
 },
 "nbformat": 4,
 "nbformat_minor": 0
}
